{
 "cells": [
  {
   "cell_type": "code",
   "execution_count": 19,
   "id": "initial_id",
   "metadata": {
    "collapsed": true,
    "ExecuteTime": {
     "end_time": "2025-10-30T03:43:35.956204100Z",
     "start_time": "2025-10-30T03:43:35.945820600Z"
    }
   },
   "outputs": [],
   "source": [
    "from PyPDF2 import PdfReader\n",
    "import requests\n",
    "\n",
    "# Variables used\n",
    "pdf_path = r\"C:\\Users\\pauca\\OneDrive\\Escritorio\\Personal\\CVs and Cover Letters\\Actual applications\\PauCaseCVTest.pdf\"\n",
    "\n",
    "first_agent = \"You will be given a candidate's CV, including summary bullet points, work experience, projects, skills and signature strengths and honors or awards. You are in charge of listing them in a clear format for another agent to understand.\"\n",
    "\n",
    "job_posting_agent = \"You will be given a job posting. Reduce the number of tokens while keepint ALL of the requirements, skills and any other information to the next prompted agent, who will receive your input to choose what parts of a cv match the job description best.\"\n",
    "\n",
    "second_agent = \"You will receive a summary of a CV made by an AI agent and a job posting summary done by an another ai agent. First, process the job posting and then identify the most relevant 1) summary bullet points, 2) projects, 3) work experiences, 4) skills and signature strengths and 5) honors or awards that could fit in a one page CV. Take into consideration work experiences should be at most 1 or 2 and projects should be between 2-3.\"\n",
    "\n",
    "\n",
    "\n",
    "forLater=\"Then, you will get the content of a job posting, and you should match 3 projects and as many skills that match the job of the ones given.\"\n",
    "# Functions and agent\n",
    "def extract_text_from_pdf(path):\n",
    "    reader = PdfReader(path)\n",
    "    text = \"\"\n",
    "    for page in reader.pages:\n",
    "        text += page.extract_text() + \"\\n\"\n",
    "    return text\n",
    "\n",
    "def groqPrompt(system_input, user_input):\n",
    "    headers = {\"Authorization\": \"Bearer \"}\n",
    "    data = {\n",
    "        \"model\": \"openai/gpt-oss-20b\",\n",
    "        \"messages\": [\n",
    "            {\"role\": \"system\", \"content\": system_input},\n",
    "            {\"role\": \"user\", \"content\": user_input}\n",
    "        ]\n",
    "    }\n",
    "    response = requests.post(\"https://api.groq.com/openai/v1/chat/completions\", headers=headers, json=data)\n",
    "    return response.json()[\"choices\"][0][\"message\"][\"content\"]\n",
    "\n",
    "    "
   ]
  },
  {
   "cell_type": "code",
   "outputs": [
    {
     "ename": "NameError",
     "evalue": "name 'extract_text_from_pdf' is not defined",
     "output_type": "error",
     "traceback": [
      "\u001B[1;31m---------------------------------------------------------------------------\u001B[0m",
      "\u001B[1;31mNameError\u001B[0m                                 Traceback (most recent call last)",
      "Cell \u001B[1;32mIn[1], line 1\u001B[0m\n\u001B[1;32m----> 1\u001B[0m t \u001B[38;5;241m=\u001B[39m extract_text_from_pdf(pdf_path)\n\u001B[0;32m      2\u001B[0m jobPosting\u001B[38;5;241m=\u001B[39m\u001B[38;5;124m\"\"\"\u001B[39m\n\u001B[0;32m      3\u001B[0m \u001B[38;5;124mQorvo’s Internship Program is designed for college students currently enrolled in an accredited Bachelor’s, Master’s, or PhD program. Qorvo offers real work experience, exposure to upper management, and the opportunity to pursue full-time opportunities, as available. \u001B[39m\n\u001B[0;32m      4\u001B[0m \n\u001B[1;32m   (...)\u001B[0m\n\u001B[0;32m     37\u001B[0m \u001B[38;5;124mExcellent communication and organizational skills.\u001B[39m\n\u001B[0;32m     38\u001B[0m \u001B[38;5;124mInterest in international trade, compliance, and data-driven decision-making.\u001B[39m\u001B[38;5;124m\"\"\"\u001B[39m\n\u001B[0;32m     40\u001B[0m cvSummary \u001B[38;5;241m=\u001B[39m groqPrompt(first_agent, t)\n",
      "\u001B[1;31mNameError\u001B[0m: name 'extract_text_from_pdf' is not defined"
     ]
    }
   ],
   "source": [
    "t = extract_text_from_pdf(pdf_path)\n",
    "jobPosting=\"\"\"\n",
    "Qorvo’s Internship Program is designed for college students currently enrolled in an accredited Bachelor’s, Master’s, or PhD program. Qorvo offers real work experience, exposure to upper management, and the opportunity to pursue full-time opportunities, as available. \n",
    "\n",
    "Qorvo’s Internship Program offers:\n",
    "\n",
    "Challenging, skill-building assignments\n",
    "Mentoring and coaching from industry experts\n",
    "Launch & Learns and other learning opportunities\n",
    "Collaborative team-based work environment\n",
    "Networking and social events\n",
    "Final presentation to business leaders\n",
    " \n",
    "\n",
    "Qorvo’s Data Analytics Internships are offered in our High Performance Analog, Advanced Cellular, Connectivity and Sensors and Global Operations business groups. Specific projects and responsibilities will be determined based on the business needs at the time of the internship assignment.\n",
    "\n",
    "Position Overview:\n",
    "We are seeking a motivated and detail-oriented rising Junior to join our Trade Compliance department for Summer 2026. The ideal candidate will be pursuing a major in Data Analytics, with a minor in Supply Chain Management or a related field. Other relevant majors may include Business Analytics, Information Systems, or Industrial Engineering.\n",
    "\n",
    "About Us:\n",
    "Our Global Trade Compliance team is a key driver of our international success, ensuring strict adherence to trade regulations across multiple regions. This team plays a strategic role in safeguarding our global operations while enabling business growth through data-driven compliance initiatives and cross-functional collaboration.\n",
    "\n",
    "Key Responsibilities:\n",
    "\n",
    "Assist in analyzing trade compliance data to support ongoing audits and regulatory reporting.\n",
    "Contribute to the enhancement of current Key Performance Indicator (KPI) tracking and reporting processes.\n",
    "Support the development and automation of dashboards and tools for compliance metrics.\n",
    "Participate in projects aimed at improving import/export documentation workflows.\n",
    "Help identify trends and anomalies in trade data to support risk mitigation strategies.\n",
    "Collaborate with cross-functional teams including logistics, procurement, and IT to streamline compliance operations.\n",
    "Conduct research on trade regulations and assist in updating internal documentation.\n",
    "Qualifications:\n",
    "\n",
    "Rising Junior pursuing a Bachelor’s degree in Data Analytics, Supply Chain Management, Business Analytics, Information Systems, or Industrial Engineering.\n",
    "Strong analytical and problem-solving skills.\n",
    "Proficiency in Excel; familiarity with data visualization tools (e.g., Power BI, Tableau) is a plus.\n",
    "Excellent communication and organizational skills.\n",
    "Interest in international trade, compliance, and data-driven decision-making.\"\"\"\n",
    "\n",
    "cvSummary = groqPrompt(first_agent, t)\n",
    "jobSummary = groqPrompt(job_posting_agent, jobPosting)\n",
    "newCvSummary = groqPrompt(second_agent, cvSummary + \"\\nJob Posting details:\\n\" + jobSummary) "
   ],
   "metadata": {
    "collapsed": false,
    "ExecuteTime": {
     "end_time": "2025-10-30T18:43:07.324343800Z",
     "start_time": "2025-10-30T18:43:06.629146Z"
    }
   },
   "id": "dfeeaa8c7a96cdb4",
   "execution_count": 1
  },
  {
   "cell_type": "markdown",
   "source": [
    "# Agent 1 - parsing content and understandably giving it to next agent"
   ],
   "metadata": {
    "collapsed": false
   },
   "id": "c1c7250b850bcc7b"
  },
  {
   "cell_type": "code",
   "outputs": [
    {
     "name": "stdout",
     "output_type": "stream",
     "text": [
      "**Resume Highlights for Qorvo Data Analytics Internship**\n",
      "\n",
      "---\n",
      "\n",
      "### 1️⃣  Summary (≈ 5 bullet‑style statements)\n",
      "\n",
      "- Rising junior with a 4.0 M.S. GPA in Data Science (Lewis Univ.) and a solid background in analytics, database design, and visual storytelling.  \n",
      "- Proven Python (NumPy, pandas, scikit‑learn) and **Tableau** developer with hands‑on experience building automated dashboards that surface anomalies and support decision‑making.  \n",
      "- Strong foundation in **SQL** (Oracle, MySQL) and Excel for data cleansing, ETL, and ad‑hoc reporting in a fast‑paced environment.  \n",
      "- Background in **Agile MVC** development and cross‑functional teamwork; delivered a student‑built game with a clean MVC architecture and back‑end persistence.  \n",
      "- Experience driving data‑informed insights for audiences from teaching staff to first‑year students, translating analytics into clear visual and narrative stories.  \n",
      "\n",
      "---\n",
      "\n",
      "### 2️⃣  Projects (2 – 3 high‑impact examples)\n",
      "\n",
      "| Project | Core Skills | Why It Matters for Qorvo |\n",
      "|---------|-------------|---------------------------|\n",
      "| **Predicting Credit‑Card Fraud** | Python (pandas, scikit‑learn), Feature Engineering, Anomaly Det. | Shows ability to spot irregular patterns, a core need for identifying non‑compliant or high‑risk trade activities. |\n",
      "| **Soccer Database Design & Retrieval** | SQL (Oracle), Data Modelling, Optimized Queries | Demonstrates solid database design, schema normalisation, and efficient reporting—foundational for managing trade‑related data sets. |\n",
      "| **(Optional)** **Cookie‑Clicker MVC Game** | Java MVC, Git, Agile Back‑log | Highlights experience with clean architecture, back‑up procedures, and automated data persistance—useful for internal automation tools. |\n",
      "\n",
      "*If only two slots allowed, present the first two.*\n",
      "\n",
      "---\n",
      "\n",
      "### 3️⃣  Work Experience (1 – 2 entries)\n",
      "\n",
      "| Role | Organization | Dates | Highlights |\n",
      "|------|--------------|-------|------------|\n",
      "| **Teacher & Team Lead** | Codelearn, Manresa | Sep 2023 – Sep 2025 | • Designed data‑visual analytics (attendance, performance trends) to drive curriculum improvements; • Managed a multi‑language team of 4+ instructors for 100+ students; • Applied Excel‑based reporting to inform program decisions. |\n",
      "| **Teaching Assistant – Computer Graphics** | La Salle URL | Sep 2024 – Jan 2025 | • Supported cross‑functional coding workshops; • Updated documentation and clarified API specs for students and faculty; • Gained experience in clarifying technical concepts for non‑tech audiences. |\n",
      "\n",
      "*(If limited to 1 experience, include Teacher & Team Lead, as it best aligns with cross‑team data‑reporting.)*\n",
      "\n",
      "---\n",
      "\n",
      "### 4️⃣  Skills / Signature Strengths (≈ 5 – 6)\n",
      "\n",
      "- **Data Analytics** (Python pandas, NumPy, scikit‑learn)  \n",
      "- **Data Visualisation** (Tableau; Power BI – *(add PowerBI if prior work confirmed)* )  \n",
      "- **Database/SQL** (Oracle, MySQL, schema design)  \n",
      "- **Excel‑Driven Reporting** (PivotTables, VBA macros)  \n",
      "- **Agile Frameworks** (MVC, Scrum back‑log)  \n",
      "- **Cross‑Functional Communication** (presentations, stakeholder liaising)  \n",
      "\n",
      "---\n",
      "\n",
      "### 5️⃣  Honors & Awards (most compelling)\n",
      "\n",
      "- **National Model United Nations – Distinguished Delegation Award** (2024)  \n",
      "- **La Sallian Master’s Scholarship** (2025 – Present)  \n",
      "- **La Sallian Bachelor’s Scholarship** (2022 – Present)  \n",
      "- **Catalan Mathematics Contest** – 13th of 21 000 (2019)  \n",
      "\n",
      "*(If space is limited, keep the first three.)*\n",
      "\n",
      "---\n",
      "\n",
      "These elements provide a tightly‑focussed, 1‑page presentation that foregrounds the data‑analytics, reporting, and cross‑functional teamwork skills most directly matched to Qorvo’s Data Analytics Intern (Trade Compliance) role.\n"
     ]
    }
   ],
   "source": [
    "# text = r.json()[\"choices\"][0][\"message\"][\"content\"]\n",
    "#clean = newCvSummary \n",
    "text = newCvSummary.replace('\\u202f', ' ')\n",
    "\n",
    "print(text)\n",
    "\n",
    "\n",
    "# newCvSummary\n"
   ],
   "metadata": {
    "collapsed": false,
    "ExecuteTime": {
     "end_time": "2025-10-30T03:48:58.906442400Z",
     "start_time": "2025-10-30T03:48:58.894910300Z"
    }
   },
   "id": "336b17a1f924d2a2",
   "execution_count": 23
  },
  {
   "cell_type": "code",
   "outputs": [],
   "source": [],
   "metadata": {
    "collapsed": false
   },
   "id": "435f7a522eabbc28"
  },
  {
   "cell_type": "markdown",
   "source": [],
   "metadata": {
    "collapsed": false
   },
   "id": "a2b95dd653ffea89"
  },
  {
   "cell_type": "code",
   "outputs": [],
   "source": [],
   "metadata": {
    "collapsed": false,
    "ExecuteTime": {
     "end_time": "2025-10-30T03:17:40.771706900Z",
     "start_time": "2025-10-30T03:17:40.764833700Z"
    }
   },
   "id": "9a7053f0e3c6592a",
   "execution_count": 14
  },
  {
   "cell_type": "code",
   "outputs": [],
   "source": [],
   "metadata": {
    "collapsed": false
   },
   "id": "a89cc70ac2800650"
  }
 ],
 "metadata": {
  "kernelspec": {
   "display_name": "Python 3",
   "language": "python",
   "name": "python3"
  },
  "language_info": {
   "codemirror_mode": {
    "name": "ipython",
    "version": 2
   },
   "file_extension": ".py",
   "mimetype": "text/x-python",
   "name": "python",
   "nbconvert_exporter": "python",
   "pygments_lexer": "ipython2",
   "version": "2.7.6"
  }
 },
 "nbformat": 4,
 "nbformat_minor": 5
}
